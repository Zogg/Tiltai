{
 "metadata": {
  "name": "",
  "signature": "sha256:800b2fd6c2102ac9669c44f7bd2aaf65988113899807ab2f0187ee9cd1edb142"
 },
 "nbformat": 3,
 "nbformat_minor": 0,
 "worksheets": [
  {
   "cells": [
    {
     "cell_type": "code",
     "collapsed": false,
     "input": [
      "import time\n",
      "from functools import partial"
     ],
     "language": "python",
     "metadata": {},
     "outputs": [],
     "prompt_number": 13
    },
    {
     "cell_type": "code",
     "collapsed": false,
     "input": [
      "def bench(stuff):\n",
      "    start = time.time()\n",
      "    stuff()\n",
      "    stop = time.time()\n",
      "    print(\"Total time taken {elapsed}\".format(elapsed=stop-start))\n",
      "    return stop-start"
     ],
     "language": "python",
     "metadata": {},
     "outputs": [],
     "prompt_number": 17
    },
    {
     "cell_type": "code",
     "collapsed": false,
     "input": [
      "def test(cycles):\n",
      "    for i in xrange(cycles):\n",
      "        x = 1 - 1 ** 2 ** 2 ** 2\n",
      "\n",
      "#cycles = xrange(1000000, 100000000, 5000000)\n",
      "cycles = [10**6, 10**7, 10**8]\n",
      "results = []\n",
      "for cycle in cycles:\n",
      "    results.append(bench(partial(test, cycle)))\n",
      "\n",
      "plot(cycles, results)"
     ],
     "language": "python",
     "metadata": {},
     "outputs": [
      {
       "output_type": "stream",
       "stream": "stdout",
       "text": [
        "Total time taken 0.291193962097\n",
        "Total time taken 2.78118181229"
       ]
      },
      {
       "output_type": "stream",
       "stream": "stdout",
       "text": [
        "\n",
        "Total time taken 26.3998498917"
       ]
      },
      {
       "output_type": "stream",
       "stream": "stdout",
       "text": [
        "\n"
       ]
      },
      {
       "metadata": {},
       "output_type": "pyout",
       "prompt_number": 23,
       "text": [
        "[<matplotlib.lines.Line2D at 0x2f173d0>]"
       ]
      },
      {
       "metadata": {},
       "output_type": "display_data",
       "png": "[encoded data removed]",
       "text": [
        "<matplotlib.figure.Figure at 0x3333c10>"
       ]
      }
     ],
     "prompt_number": 23
    },
    {
     "cell_type": "code",
     "collapsed": false,
     "input": [],
     "language": "python",
     "metadata": {},
     "outputs": []
    }
   ],
   "metadata": {}
  }
 ]
}